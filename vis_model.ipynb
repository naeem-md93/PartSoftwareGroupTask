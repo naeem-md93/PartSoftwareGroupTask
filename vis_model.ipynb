{
 "cells": [
  {
   "cell_type": "code",
   "id": "1d7b136873837151",
   "metadata": {
    "ExecuteTime": {
     "end_time": "2025-04-23T11:16:07.472404Z",
     "start_time": "2025-04-23T11:16:00.767218Z"
    }
   },
   "source": [
    "import os\n",
    "import torch\n",
    "import numpy as np\n",
    "import matplotlib.pyplot as plt\n",
    "from sklearn.metrics.pairwise import cosine_similarity\n",
    "from torch import nn\n",
    "\n",
    "from cvl import utils\n",
    "from cvl.models.try1._try1_model import Try1Model"
   ],
   "outputs": [],
   "execution_count": 1
  },
  {
   "cell_type": "code",
   "id": "4b384c5d",
   "metadata": {
    "ExecuteTime": {
     "end_time": "2025-04-23T11:16:19.804235Z",
     "start_time": "2025-04-23T11:16:19.796894Z"
    }
   },
   "source": "checkpoints_path = \"./checkpoints/Try1_BaseModel\"",
   "outputs": [],
   "execution_count": 2
  },
  {
   "cell_type": "code",
   "id": "3e65dc92",
   "metadata": {
    "ExecuteTime": {
     "end_time": "2025-04-23T11:16:22.033739Z",
     "start_time": "2025-04-23T11:16:20.457330Z"
    }
   },
   "source": [
    "params = utils.read_pickle_file(os.path.join(checkpoints_path, 'params.pk'))\n",
    "weights = torch.load(os.path.join(checkpoints_path, 'best.pt'), map_location=\"cpu\", weights_only=False)"
   ],
   "outputs": [],
   "execution_count": 3
  },
  {
   "cell_type": "code",
   "id": "7b210aa5e28b262b",
   "metadata": {
    "ExecuteTime": {
     "end_time": "2025-04-23T11:16:22.837473Z",
     "start_time": "2025-04-23T11:16:22.776599Z"
    }
   },
   "source": [
    "model = Try1Model()\n",
    "model.load_state_dict(weights[\"model_state_dict\"], strict=True)"
   ],
   "outputs": [
    {
     "name": "stdout",
     "output_type": "stream",
     "text": [
      "# params: 407986\n"
     ]
    },
    {
     "data": {
      "text/plain": [
       "<All keys matched successfully>"
      ]
     },
     "execution_count": 4,
     "metadata": {},
     "output_type": "execute_result"
    }
   ],
   "execution_count": 4
  },
  {
   "cell_type": "code",
   "id": "d4979dd1f82cb2ef",
   "metadata": {
    "ExecuteTime": {
     "end_time": "2025-04-23T11:23:32.569448Z",
     "start_time": "2025-04-23T11:16:25.543790Z"
    }
   },
   "source": [
    "save_path = os.path.join(checkpoints_path, f\"plots/model/weight_correlations/\")\n",
    "os.makedirs(save_path, exist_ok=True)\n",
    "\n",
    "for n, m in model.named_modules():\n",
    "\n",
    "    if isinstance(m, nn.Conv2d):\n",
    "        t_p = m.weight.clone().detach().cpu().numpy()\n",
    "        t_p = t_p.reshape(t_p.shape[0], t_p.shape[1], -1)\n",
    "        t_p = np.moveaxis(t_p, -1, 0)\n",
    "        t_p = t_p.reshape(t_p.shape[0], -1)\n",
    "        t_p = np.moveaxis(t_p, -1, 0)\n",
    "        sim = cosine_similarity(t_p, t_p)\n",
    "\n",
    "    elif isinstance(m, nn.Linear):\n",
    "        t_p = m.weight.clone().detach().cpu().numpy()\n",
    "        sim = cosine_similarity(t_p, t_p)\n",
    "\n",
    "    else:\n",
    "        print(f'Skipping {n}')\n",
    "        continue\n",
    "\n",
    "    n_rows, chunk_size = sim.shape[0], 1000\n",
    "    for start in range(0, n_rows, chunk_size):\n",
    "        chunk = sim[start : start + chunk_size, :]   # rows start…start+999\n",
    "        plt.figure()\n",
    "        plt.matshow(chunk, fignum=False)              # display this block\n",
    "        plt.title(f\"{n}.weight Rows {start}–{min(start+chunk_size-1, n_rows-1)}\")\n",
    "        plt.colorbar()\n",
    "        plt.savefig(os.path.join(save_path, f\"{n}.weight Rows {start}–{min(start+chunk_size-1, n_rows-1)}.png\"))\n",
    "        plt.close()"
   ],
   "outputs": [
    {
     "name": "stdout",
     "output_type": "stream",
     "text": [
      "Skipping \n",
      "Skipping block1\n",
      "block1.conv\n",
      "Skipping block1.norm\n",
      "Skipping block1.act\n",
      "Skipping block1.drop\n",
      "Skipping block2\n",
      "block2.conv\n",
      "Skipping block2.norm\n",
      "Skipping block2.act\n",
      "Skipping block2.drop\n",
      "Skipping block3\n",
      "block3.conv\n",
      "Skipping block3.norm\n",
      "Skipping block3.act\n",
      "Skipping block3.drop\n",
      "Skipping block4\n",
      "block4.conv\n",
      "Skipping block4.norm\n",
      "Skipping block4.act\n",
      "Skipping block4.drop\n",
      "Skipping block5\n",
      "block5.conv\n",
      "Skipping block5.norm\n",
      "Skipping block5.act\n",
      "Skipping block5.drop\n",
      "Skipping block6\n",
      "block6.conv\n",
      "Skipping block6.norm\n",
      "Skipping block6.act\n",
      "Skipping block6.drop\n",
      "Skipping block7\n",
      "block7.conv\n",
      "Skipping block7.norm\n",
      "Skipping block7.act\n",
      "Skipping block7.drop\n",
      "Skipping block8\n",
      "block8.conv\n",
      "Skipping block8.norm\n",
      "Skipping block8.act\n",
      "Skipping block8.drop\n",
      "Skipping block9\n",
      "block9.conv\n",
      "Skipping block9.norm\n",
      "Skipping block9.act\n",
      "Skipping block9.drop\n",
      "Skipping block10\n",
      "block10.conv\n",
      "Skipping block10.norm\n",
      "Skipping block10.act\n",
      "Skipping block10.drop\n",
      "Skipping block11\n",
      "block11.conv\n",
      "Skipping block11.norm\n",
      "Skipping block11.act\n",
      "Skipping block11.drop\n",
      "Skipping block12\n",
      "block12.conv\n",
      "Skipping block12.norm\n",
      "Skipping block12.act\n",
      "Skipping block12.drop\n",
      "Skipping block13\n",
      "block13.conv\n",
      "Skipping block13.norm\n",
      "Skipping block13.act\n",
      "Skipping block13.drop\n",
      "Skipping block14\n",
      "block14.conv\n",
      "Skipping block14.norm\n",
      "Skipping block14.act\n",
      "Skipping block14.drop\n",
      "Skipping avgpool\n"
     ]
    }
   ],
   "execution_count": 5
  },
  {
   "metadata": {},
   "cell_type": "code",
   "source": "",
   "id": "434763454b1d62eb",
   "outputs": [],
   "execution_count": null
  }
 ],
 "metadata": {
  "kernelspec": {
   "display_name": "Python 3 (ipykernel)",
   "language": "python",
   "name": "python3"
  },
  "language_info": {
   "codemirror_mode": {
    "name": "ipython",
    "version": 3
   },
   "file_extension": ".py",
   "mimetype": "text/x-python",
   "name": "python",
   "nbconvert_exporter": "python",
   "pygments_lexer": "ipython3",
   "version": "3.12.3"
  }
 },
 "nbformat": 4,
 "nbformat_minor": 5
}
